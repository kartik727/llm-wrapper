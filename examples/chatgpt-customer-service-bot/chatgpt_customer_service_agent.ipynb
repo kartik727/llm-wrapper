{
 "cells": [
  {
   "cell_type": "code",
   "execution_count": 1,
   "metadata": {},
   "outputs": [
    {
     "name": "stderr",
     "output_type": "stream",
     "text": [
      "/workspaces/llm-wrapper/.venv/lib/python3.10/site-packages/tqdm/auto.py:21: TqdmWarning: IProgress not found. Please update jupyter and ipywidgets. See https://ipywidgets.readthedocs.io/en/stable/user_install.html\n",
      "  from .autonotebook import tqdm as notebook_tqdm\n"
     ]
    }
   ],
   "source": [
    "import os\n",
    "import json\n",
    "import pandas as pd\n",
    "from dotenv import load_dotenv\n",
    "from llm_wrappers.llm_config import OpenAIConfig\n",
    "from llm_wrappers.utils.chat_interface import chat_ui\n",
    "\n",
    "from customer_bot import CustomerServiceBot, EndChatInterrupt\n",
    "from customer_issue import Customer, Order, CustomerIssue"
   ]
  },
  {
   "cell_type": "markdown",
   "metadata": {},
   "source": [
    "## Connecting to the database\n",
    "\n",
    "We will just load a couple of pandas dataframes as our database. Conceptually, this could be a large database with millions of rows."
   ]
  },
  {
   "cell_type": "code",
   "execution_count": 2,
   "metadata": {},
   "outputs": [
    {
     "data": {
      "text/html": [
       "<div>\n",
       "<style scoped>\n",
       "    .dataframe tbody tr th:only-of-type {\n",
       "        vertical-align: middle;\n",
       "    }\n",
       "\n",
       "    .dataframe tbody tr th {\n",
       "        vertical-align: top;\n",
       "    }\n",
       "\n",
       "    .dataframe thead th {\n",
       "        text-align: right;\n",
       "    }\n",
       "</style>\n",
       "<table border=\"1\" class=\"dataframe\">\n",
       "  <thead>\n",
       "    <tr style=\"text-align: right;\">\n",
       "      <th></th>\n",
       "      <th>order_status</th>\n",
       "      <th>refund_available</th>\n",
       "    </tr>\n",
       "    <tr>\n",
       "      <th>order_id</th>\n",
       "      <th></th>\n",
       "      <th></th>\n",
       "    </tr>\n",
       "  </thead>\n",
       "  <tbody>\n",
       "    <tr>\n",
       "      <th>10045</th>\n",
       "      <td>Delivered</td>\n",
       "      <td>False</td>\n",
       "    </tr>\n",
       "    <tr>\n",
       "      <th>10046</th>\n",
       "      <td>Order Recieved</td>\n",
       "      <td>True</td>\n",
       "    </tr>\n",
       "    <tr>\n",
       "      <th>10047</th>\n",
       "      <td>In Transit</td>\n",
       "      <td>True</td>\n",
       "    </tr>\n",
       "    <tr>\n",
       "      <th>10048</th>\n",
       "      <td>Delivered</td>\n",
       "      <td>True</td>\n",
       "    </tr>\n",
       "    <tr>\n",
       "      <th>10049</th>\n",
       "      <td>In Transit - Delayed</td>\n",
       "      <td>True</td>\n",
       "    </tr>\n",
       "    <tr>\n",
       "      <th>10050</th>\n",
       "      <td>Return Initiated</td>\n",
       "      <td>True</td>\n",
       "    </tr>\n",
       "    <tr>\n",
       "      <th>10051</th>\n",
       "      <td>Return Complete</td>\n",
       "      <td>False</td>\n",
       "    </tr>\n",
       "  </tbody>\n",
       "</table>\n",
       "</div>"
      ],
      "text/plain": [
       "                  order_status  refund_available\n",
       "order_id                                        \n",
       "10045                Delivered             False\n",
       "10046           Order Recieved              True\n",
       "10047               In Transit              True\n",
       "10048                Delivered              True\n",
       "10049     In Transit - Delayed              True\n",
       "10050         Return Initiated              True\n",
       "10051          Return Complete             False"
      ]
     },
     "execution_count": 2,
     "metadata": {},
     "output_type": "execute_result"
    }
   ],
   "source": [
    "database = {\n",
    "    'order_table' : pd.read_csv(\n",
    "        'data/database/order_table.csv',\n",
    "        index_col='order_id'),\n",
    "    'product_table' : pd.read_csv(\n",
    "        'data/database/product_table.csv',\n",
    "        index_col='product_id'),\n",
    "}\n",
    "\n",
    "database['order_table'].head(n=10)"
   ]
  },
  {
   "cell_type": "code",
   "execution_count": 3,
   "metadata": {},
   "outputs": [
    {
     "data": {
      "text/html": [
       "<div>\n",
       "<style scoped>\n",
       "    .dataframe tbody tr th:only-of-type {\n",
       "        vertical-align: middle;\n",
       "    }\n",
       "\n",
       "    .dataframe tbody tr th {\n",
       "        vertical-align: top;\n",
       "    }\n",
       "\n",
       "    .dataframe thead th {\n",
       "        text-align: right;\n",
       "    }\n",
       "</style>\n",
       "<table border=\"1\" class=\"dataframe\">\n",
       "  <thead>\n",
       "    <tr style=\"text-align: right;\">\n",
       "      <th></th>\n",
       "      <th>product_type</th>\n",
       "      <th>product_name</th>\n",
       "      <th>product_price</th>\n",
       "    </tr>\n",
       "    <tr>\n",
       "      <th>product_id</th>\n",
       "      <th></th>\n",
       "      <th></th>\n",
       "      <th></th>\n",
       "    </tr>\n",
       "  </thead>\n",
       "  <tbody>\n",
       "    <tr>\n",
       "      <th>51033</th>\n",
       "      <td>Toy</td>\n",
       "      <td>MyFluffy Soft Panda</td>\n",
       "      <td>12.99</td>\n",
       "    </tr>\n",
       "    <tr>\n",
       "      <th>51034</th>\n",
       "      <td>TV</td>\n",
       "      <td>Fefenex 32\" HD TV</td>\n",
       "      <td>130.00</td>\n",
       "    </tr>\n",
       "    <tr>\n",
       "      <th>51035</th>\n",
       "      <td>TV</td>\n",
       "      <td>Tamtung LED TV Ultra 55\" 4K</td>\n",
       "      <td>439.99</td>\n",
       "    </tr>\n",
       "    <tr>\n",
       "      <th>51036</th>\n",
       "      <td>Toy</td>\n",
       "      <td>SuperBoys Soldier | toy with lights and sound</td>\n",
       "      <td>8.49</td>\n",
       "    </tr>\n",
       "    <tr>\n",
       "      <th>51037</th>\n",
       "      <td>TV</td>\n",
       "      <td>Jempis Hatak HiQuality 31.5\" TV</td>\n",
       "      <td>119.99</td>\n",
       "    </tr>\n",
       "    <tr>\n",
       "      <th>51038</th>\n",
       "      <td>Garden Equipment</td>\n",
       "      <td>Reds Garden Glove</td>\n",
       "      <td>5.99</td>\n",
       "    </tr>\n",
       "  </tbody>\n",
       "</table>\n",
       "</div>"
      ],
      "text/plain": [
       "                product_type                                   product_name  \\\n",
       "product_id                                                                    \n",
       "51033                    Toy                            MyFluffy Soft Panda   \n",
       "51034                     TV                              Fefenex 32\" HD TV   \n",
       "51035                     TV                    Tamtung LED TV Ultra 55\" 4K   \n",
       "51036                    Toy  SuperBoys Soldier | toy with lights and sound   \n",
       "51037                     TV                Jempis Hatak HiQuality 31.5\" TV   \n",
       "51038       Garden Equipment                              Reds Garden Glove   \n",
       "\n",
       "            product_price  \n",
       "product_id                 \n",
       "51033               12.99  \n",
       "51034              130.00  \n",
       "51035              439.99  \n",
       "51036                8.49  \n",
       "51037              119.99  \n",
       "51038                5.99  "
      ]
     },
     "execution_count": 3,
     "metadata": {},
     "output_type": "execute_result"
    }
   ],
   "source": [
    "database['product_table'].head(n=10)"
   ]
  },
  {
   "cell_type": "markdown",
   "metadata": {},
   "source": [
    "## Lading the customer service agent\n",
    "\n",
    "Our customer service agent is a GPT-3.5/4 model, which will be run by making API calls to OpenAI."
   ]
  },
  {
   "cell_type": "code",
   "execution_count": 4,
   "metadata": {},
   "outputs": [],
   "source": [
    "load_dotenv()\n",
    "model_name = 'gpt-3.5-turbo'\n",
    "api_key = os.getenv('OPENAI_API_KEY')\n",
    "config = OpenAIConfig(model_name, api_key)"
   ]
  },
  {
   "cell_type": "markdown",
   "metadata": {},
   "source": [
    "Since we are not doing any fine-tuning, we need to provide instructions to the model in its context window, in the form of a system prompt."
   ]
  },
  {
   "cell_type": "code",
   "execution_count": 5,
   "metadata": {},
   "outputs": [
    {
     "name": "stdout",
     "output_type": "stream",
     "text": [
      "You are a helpful Customer Support AI Assistant called Darry\n",
      "the AI Bot, or Darry for short. Your job is to provide support for customers\n",
      "of the US-based e-commerce website Bamazon Shopping.\n",
      "\n",
      "You will first receive a message from the system with a JSON formatted list of \n",
      "name-value pairs containing some relevant information about the customer, which\n",
      "you can reference during the conversation.\n",
      "\n",
      "Then, you will start chatting with the customer. You should first greet the\n",
      "customer, mention that you are an AI customer support agent, and then ask them\n",
      "how you can provide support to them. You should chat with the customer in a\n",
      "brief and professional manner with a natural and polite tone.\n",
      "\n",
      "During the chat, you can make function calls to request additional information.\n",
      "If you need some information that is not provided by one of the available\n",
      "functions, you can call the `sys_request` function to make a query in natural\n",
      "language that will be processed by a human operator.\n",
      "\n",
      "Finally, after resolving the customer issue, thank them for their patience and\n",
      "apologize for any inconvenience that was caused to them. Once they have\n",
      "responded to the thank you message, you must call the `chat_complete` function\n",
      "with an analysis of the chat, to let the system know that that chat is over.\n",
      "\n"
     ]
    }
   ],
   "source": [
    "with open('data/sys_prompt.txt', 'r') as f:\n",
    "    sys_prompt = f.read()\n",
    "\n",
    "print(sys_prompt)"
   ]
  },
  {
   "cell_type": "markdown",
   "metadata": {},
   "source": [
    "We also need to supply the model with information about all the functions it can call, which will be loaded from a JSON file."
   ]
  },
  {
   "cell_type": "code",
   "execution_count": 6,
   "metadata": {},
   "outputs": [
    {
     "name": "stdout",
     "output_type": "stream",
     "text": [
      "{\n",
      "    \"name\": \"is_shipping_available\",\n",
      "    \"description\": \"Whether items can be shipped to city `city_name` in state `state_code`. Returns \\\"True\\\" or \\\"False\\\"\",\n",
      "    \"parameters\": {\n",
      "        \"type\": \"object\",\n",
      "        \"properties\": {\n",
      "            \"city_name\": {\n",
      "                \"type\": \"string\",\n",
      "                \"description\": \"The city, e.g. San Francisco\"\n",
      "            },\n",
      "            \"state_code\": {\n",
      "                \"type\": \"string\",\n",
      "                \"description\": \"The two-character state code, e.g. CA\"\n",
      "            }\n",
      "        },\n",
      "        \"required\": [\n",
      "            \"city_name\",\n",
      "            \"state_code\"\n",
      "        ]\n",
      "    }\n",
      "}\n"
     ]
    }
   ],
   "source": [
    "with open('data/functions.json', 'r') as f:\n",
    "    functions = json.load(f)['functions']\n",
    "\n",
    "# Example of a function\n",
    "print(json.dumps(functions[0], indent=4))"
   ]
  },
  {
   "cell_type": "markdown",
   "metadata": {},
   "source": [
    "Finally, we can initialize the agent with all the information we have loaded."
   ]
  },
  {
   "cell_type": "code",
   "execution_count": 7,
   "metadata": {},
   "outputs": [],
   "source": [
    "customer_agent = CustomerServiceBot(config, \n",
    "    functions = functions,\n",
    "    database = database)"
   ]
  },
  {
   "cell_type": "markdown",
   "metadata": {},
   "source": [
    "## Creating a customer issue\n",
    "\n",
    "We will now create a dummy customer issue to demonstrate how the agent works."
   ]
  },
  {
   "cell_type": "code",
   "execution_count": 8,
   "metadata": {},
   "outputs": [],
   "source": [
    "customer = Customer('Sara B', 'Individual', 'Miami, FL', 2)\n",
    "order = Order(10050, 51034, 'Credit Card')\n",
    "customer_issue = CustomerIssue(customer, order=order)"
   ]
  },
  {
   "cell_type": "markdown",
   "metadata": {},
   "source": [
    "## Talking to the agent\n",
    "\n",
    "We will now talk to the agent, and see how it responds to our queries."
   ]
  },
  {
   "cell_type": "code",
   "execution_count": 9,
   "metadata": {},
   "outputs": [
    {
     "name": "stdout",
     "output_type": "stream",
     "text": [
      "Assistant: Hello Sara B! My name is Darry and I'm an AI customer support agent. How can I assist you today?\n",
      "\n",
      "\n",
      "Assistant: I apologize for the inconvenience, Sara B. It seems that the status of your order with ID 10050 is \"Return Initiated\". This means that the order is in the process of being returned.\n",
      "\n",
      "To get more information about the status and location of your package, I suggest contacting our customer support team. They will be able to provide you with the most accurate and up-to-date information. Would you like me to transfer you to a human support expert who can assist you further?\n",
      "\n",
      "\n",
      "Assistant: Yes, Sara B, it appears that you are eligible for a refund for your order with ID 10050. I apologize for any inconvenience caused. To proceed with the refund, please contact our customer support team. They will assist you further and initiate the refund process.\n",
      "\n",
      "If you need any assistance in contacting our customer support team or have any further questions, please let me know.\n",
      "\n",
      "Chat ended: The chat is being transferred to a human expert.\n"
     ]
    }
   ],
   "source": [
    "context, greeting_msg = customer_agent.new_chat(sys_prompt, customer_issue)\n",
    "print(f'Assistant: {greeting_msg}\\n')\n",
    "\n",
    "try:\n",
    "    context = chat_ui(customer_agent, None, context=context)\n",
    "except EndChatInterrupt as e:\n",
    "    print(f'Chat ended: {e}')"
   ]
  },
  {
   "cell_type": "code",
   "execution_count": null,
   "metadata": {},
   "outputs": [],
   "source": []
  }
 ],
 "metadata": {
  "kernelspec": {
   "display_name": ".venv",
   "language": "python",
   "name": "python3"
  },
  "language_info": {
   "codemirror_mode": {
    "name": "ipython",
    "version": 3
   },
   "file_extension": ".py",
   "mimetype": "text/x-python",
   "name": "python",
   "nbconvert_exporter": "python",
   "pygments_lexer": "ipython3",
   "version": "3.10.8"
  }
 },
 "nbformat": 4,
 "nbformat_minor": 2
}
